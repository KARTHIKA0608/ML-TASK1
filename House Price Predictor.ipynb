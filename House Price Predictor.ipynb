{
 "cells": [
  {
   "cell_type": "markdown",
   "id": "a6f09527",
   "metadata": {},
   "source": [
    "# HOUSE PRICE PREDICTOR"
   ]
  },
  {
   "cell_type": "code",
   "execution_count": 1,
   "id": "4ab614d5",
   "metadata": {},
   "outputs": [],
   "source": [
    "import pandas as pd\n",
    "import numpy as np\n",
    "import matplotlib.pyplot as plt"
   ]
  },
  {
   "cell_type": "code",
   "execution_count": 2,
   "id": "2d3ea178",
   "metadata": {},
   "outputs": [],
   "source": [
    "traindf=pd.read_csv(\"train.csv\")"
   ]
  },
  {
   "cell_type": "code",
   "execution_count": 3,
   "id": "801ef2ca",
   "metadata": {},
   "outputs": [
    {
     "data": {
      "text/plain": [
       "Index(['Id', 'MSSubClass', 'MSZoning', 'LotFrontage', 'LotArea', 'Street',\n",
       "       'Alley', 'LotShape', 'LandContour', 'Utilities', 'LotConfig',\n",
       "       'LandSlope', 'Neighborhood', 'Condition1', 'Condition2', 'BldgType',\n",
       "       'HouseStyle', 'OverallQual', 'OverallCond', 'YearBuilt', 'YearRemodAdd',\n",
       "       'RoofStyle', 'RoofMatl', 'Exterior1st', 'Exterior2nd', 'MasVnrType',\n",
       "       'MasVnrArea', 'ExterQual', 'ExterCond', 'Foundation', 'BsmtQual',\n",
       "       'BsmtCond', 'BsmtExposure', 'BsmtFinType1', 'BsmtFinSF1',\n",
       "       'BsmtFinType2', 'BsmtFinSF2', 'BsmtUnfSF', 'TotalBsmtSF', 'Heating',\n",
       "       'HeatingQC', 'CentralAir', 'Electrical', '1stFlrSF', '2ndFlrSF',\n",
       "       'LowQualFinSF', 'GrLivArea', 'BsmtFullBath', 'BsmtHalfBath', 'FullBath',\n",
       "       'HalfBath', 'BedroomAbvGr', 'KitchenAbvGr', 'KitchenQual',\n",
       "       'TotRmsAbvGrd', 'Functional', 'Fireplaces', 'FireplaceQu', 'GarageType',\n",
       "       'GarageYrBlt', 'GarageFinish', 'GarageCars', 'GarageArea', 'GarageQual',\n",
       "       'GarageCond', 'PavedDrive', 'WoodDeckSF', 'OpenPorchSF',\n",
       "       'EnclosedPorch', '3SsnPorch', 'ScreenPorch', 'PoolArea', 'PoolQC',\n",
       "       'Fence', 'MiscFeature', 'MiscVal', 'MoSold', 'YrSold', 'SaleType',\n",
       "       'SaleCondition', 'SalePrice'],\n",
       "      dtype='object')"
      ]
     },
     "execution_count": 3,
     "metadata": {},
     "output_type": "execute_result"
    }
   ],
   "source": [
    "traindf.columns"
   ]
  },
  {
   "cell_type": "code",
   "execution_count": 4,
   "id": "34ada629",
   "metadata": {},
   "outputs": [
    {
     "data": {
      "text/plain": [
       "SalePrice        1.000000\n",
       "OverallQual      0.790982\n",
       "GrLivArea        0.708624\n",
       "GarageCars       0.640409\n",
       "GarageArea       0.623431\n",
       "TotalBsmtSF      0.613581\n",
       "1stFlrSF         0.605852\n",
       "FullBath         0.560664\n",
       "TotRmsAbvGrd     0.533723\n",
       "YearBuilt        0.522897\n",
       "YearRemodAdd     0.507101\n",
       "GarageYrBlt      0.486362\n",
       "MasVnrArea       0.477493\n",
       "Fireplaces       0.466929\n",
       "BsmtFinSF1       0.386420\n",
       "LotFrontage      0.351799\n",
       "WoodDeckSF       0.324413\n",
       "2ndFlrSF         0.319334\n",
       "OpenPorchSF      0.315856\n",
       "HalfBath         0.284108\n",
       "LotArea          0.263843\n",
       "BsmtFullBath     0.227122\n",
       "BsmtUnfSF        0.214479\n",
       "BedroomAbvGr     0.168213\n",
       "ScreenPorch      0.111447\n",
       "PoolArea         0.092404\n",
       "MoSold           0.046432\n",
       "3SsnPorch        0.044584\n",
       "BsmtFinSF2      -0.011378\n",
       "BsmtHalfBath    -0.016844\n",
       "MiscVal         -0.021190\n",
       "Id              -0.021917\n",
       "LowQualFinSF    -0.025606\n",
       "YrSold          -0.028923\n",
       "OverallCond     -0.077856\n",
       "MSSubClass      -0.084284\n",
       "EnclosedPorch   -0.128578\n",
       "KitchenAbvGr    -0.135907\n",
       "Name: SalePrice, dtype: float64"
      ]
     },
     "execution_count": 4,
     "metadata": {},
     "output_type": "execute_result"
    }
   ],
   "source": [
    "numeric_df=traindf.select_dtypes(include='number')\n",
    "correlation_matrix=numeric_df.corr()\n",
    "correlation_matrix['SalePrice'].sort_values(ascending= False)"
   ]
  },
  {
   "cell_type": "code",
   "execution_count": 5,
   "id": "3ad96330",
   "metadata": {},
   "outputs": [],
   "source": [
    "req_tr=[\"GarageArea\",\"OverallQual\",\"TotalBsmtSF\",\"1stFlrSF\",\"2ndFlrSF\",\"LowQualFinSF\",\"GrLivArea\",\"BsmtFullBath\",\"BsmtHalfBath\",\"FullBath\",\"HalfBath\",\"TotRmsAbvGrd\",\"SalePrice\"]"
   ]
  },
  {
   "cell_type": "code",
   "execution_count": 6,
   "id": "cff6b41a",
   "metadata": {},
   "outputs": [],
   "source": [
    "selected_tr=traindf[req_tr]"
   ]
  },
  {
   "cell_type": "code",
   "execution_count": 7,
   "id": "009ef27f",
   "metadata": {},
   "outputs": [
    {
     "name": "stderr",
     "output_type": "stream",
     "text": [
      "C:\\Users\\admin\\anaconda3\\lib\\site-packages\\pandas\\core\\indexing.py:1597: SettingWithCopyWarning: \n",
      "A value is trying to be set on a copy of a slice from a DataFrame.\n",
      "Try using .loc[row_indexer,col_indexer] = value instead\n",
      "\n",
      "See the caveats in the documentation: https://pandas.pydata.org/pandas-docs/stable/user_guide/indexing.html#returning-a-view-versus-a-copy\n",
      "  self.obj[key] = value\n",
      "C:\\Users\\admin\\anaconda3\\lib\\site-packages\\pandas\\core\\indexing.py:1676: SettingWithCopyWarning: \n",
      "A value is trying to be set on a copy of a slice from a DataFrame.\n",
      "Try using .loc[row_indexer,col_indexer] = value instead\n",
      "\n",
      "See the caveats in the documentation: https://pandas.pydata.org/pandas-docs/stable/user_guide/indexing.html#returning-a-view-versus-a-copy\n",
      "  self._setitem_single_column(ilocs[0], value, pi)\n"
     ]
    }
   ],
   "source": [
    "selected_tr.loc[:,'TotalBath']=(selected_tr['BsmtFullBath'].fillna(0)+\n",
    "                                selected_tr['BsmtHalfBath'].fillna(0)+\n",
    "                               selected_tr['FullBath'].fillna(0)+\n",
    "                               selected_tr['HalfBath'].fillna(0))\n",
    "selected_tr.loc[:,'TotalSF']=(selected_tr['TotalBsmtSF'].fillna(0)+\n",
    "                             selected_tr['1stFlrSF'].fillna(0)+\n",
    "                             selected_tr['2ndFlrSF'].fillna(0)+\n",
    "                             selected_tr['LowQualFinSF'].fillna(0)+\n",
    "                             selected_tr['BsmtFullBath'].fillna(0)+\n",
    "                             selected_tr['GrLivArea'].fillna(0))"
   ]
  },
  {
   "cell_type": "code",
   "execution_count": 8,
   "id": "a52a1d85",
   "metadata": {},
   "outputs": [
    {
     "data": {
      "text/html": [
       "<div>\n",
       "<style scoped>\n",
       "    .dataframe tbody tr th:only-of-type {\n",
       "        vertical-align: middle;\n",
       "    }\n",
       "\n",
       "    .dataframe tbody tr th {\n",
       "        vertical-align: top;\n",
       "    }\n",
       "\n",
       "    .dataframe thead th {\n",
       "        text-align: right;\n",
       "    }\n",
       "</style>\n",
       "<table border=\"1\" class=\"dataframe\">\n",
       "  <thead>\n",
       "    <tr style=\"text-align: right;\">\n",
       "      <th></th>\n",
       "      <th>GarageArea</th>\n",
       "      <th>OverallQual</th>\n",
       "      <th>TotalBsmtSF</th>\n",
       "      <th>1stFlrSF</th>\n",
       "      <th>2ndFlrSF</th>\n",
       "      <th>LowQualFinSF</th>\n",
       "      <th>GrLivArea</th>\n",
       "      <th>BsmtFullBath</th>\n",
       "      <th>BsmtHalfBath</th>\n",
       "      <th>FullBath</th>\n",
       "      <th>HalfBath</th>\n",
       "      <th>TotRmsAbvGrd</th>\n",
       "      <th>SalePrice</th>\n",
       "      <th>TotalBath</th>\n",
       "      <th>TotalSF</th>\n",
       "    </tr>\n",
       "  </thead>\n",
       "  <tbody>\n",
       "    <tr>\n",
       "      <th>0</th>\n",
       "      <td>548</td>\n",
       "      <td>7</td>\n",
       "      <td>856</td>\n",
       "      <td>856</td>\n",
       "      <td>854</td>\n",
       "      <td>0</td>\n",
       "      <td>1710</td>\n",
       "      <td>1</td>\n",
       "      <td>0</td>\n",
       "      <td>2</td>\n",
       "      <td>1</td>\n",
       "      <td>8</td>\n",
       "      <td>208500</td>\n",
       "      <td>4</td>\n",
       "      <td>4277</td>\n",
       "    </tr>\n",
       "    <tr>\n",
       "      <th>1</th>\n",
       "      <td>460</td>\n",
       "      <td>6</td>\n",
       "      <td>1262</td>\n",
       "      <td>1262</td>\n",
       "      <td>0</td>\n",
       "      <td>0</td>\n",
       "      <td>1262</td>\n",
       "      <td>0</td>\n",
       "      <td>1</td>\n",
       "      <td>2</td>\n",
       "      <td>0</td>\n",
       "      <td>6</td>\n",
       "      <td>181500</td>\n",
       "      <td>3</td>\n",
       "      <td>3786</td>\n",
       "    </tr>\n",
       "    <tr>\n",
       "      <th>2</th>\n",
       "      <td>608</td>\n",
       "      <td>7</td>\n",
       "      <td>920</td>\n",
       "      <td>920</td>\n",
       "      <td>866</td>\n",
       "      <td>0</td>\n",
       "      <td>1786</td>\n",
       "      <td>1</td>\n",
       "      <td>0</td>\n",
       "      <td>2</td>\n",
       "      <td>1</td>\n",
       "      <td>6</td>\n",
       "      <td>223500</td>\n",
       "      <td>4</td>\n",
       "      <td>4493</td>\n",
       "    </tr>\n",
       "    <tr>\n",
       "      <th>3</th>\n",
       "      <td>642</td>\n",
       "      <td>7</td>\n",
       "      <td>756</td>\n",
       "      <td>961</td>\n",
       "      <td>756</td>\n",
       "      <td>0</td>\n",
       "      <td>1717</td>\n",
       "      <td>1</td>\n",
       "      <td>0</td>\n",
       "      <td>1</td>\n",
       "      <td>0</td>\n",
       "      <td>7</td>\n",
       "      <td>140000</td>\n",
       "      <td>2</td>\n",
       "      <td>4191</td>\n",
       "    </tr>\n",
       "    <tr>\n",
       "      <th>4</th>\n",
       "      <td>836</td>\n",
       "      <td>8</td>\n",
       "      <td>1145</td>\n",
       "      <td>1145</td>\n",
       "      <td>1053</td>\n",
       "      <td>0</td>\n",
       "      <td>2198</td>\n",
       "      <td>1</td>\n",
       "      <td>0</td>\n",
       "      <td>2</td>\n",
       "      <td>1</td>\n",
       "      <td>9</td>\n",
       "      <td>250000</td>\n",
       "      <td>4</td>\n",
       "      <td>5542</td>\n",
       "    </tr>\n",
       "    <tr>\n",
       "      <th>...</th>\n",
       "      <td>...</td>\n",
       "      <td>...</td>\n",
       "      <td>...</td>\n",
       "      <td>...</td>\n",
       "      <td>...</td>\n",
       "      <td>...</td>\n",
       "      <td>...</td>\n",
       "      <td>...</td>\n",
       "      <td>...</td>\n",
       "      <td>...</td>\n",
       "      <td>...</td>\n",
       "      <td>...</td>\n",
       "      <td>...</td>\n",
       "      <td>...</td>\n",
       "      <td>...</td>\n",
       "    </tr>\n",
       "    <tr>\n",
       "      <th>1455</th>\n",
       "      <td>460</td>\n",
       "      <td>6</td>\n",
       "      <td>953</td>\n",
       "      <td>953</td>\n",
       "      <td>694</td>\n",
       "      <td>0</td>\n",
       "      <td>1647</td>\n",
       "      <td>0</td>\n",
       "      <td>0</td>\n",
       "      <td>2</td>\n",
       "      <td>1</td>\n",
       "      <td>7</td>\n",
       "      <td>175000</td>\n",
       "      <td>3</td>\n",
       "      <td>4247</td>\n",
       "    </tr>\n",
       "    <tr>\n",
       "      <th>1456</th>\n",
       "      <td>500</td>\n",
       "      <td>6</td>\n",
       "      <td>1542</td>\n",
       "      <td>2073</td>\n",
       "      <td>0</td>\n",
       "      <td>0</td>\n",
       "      <td>2073</td>\n",
       "      <td>1</td>\n",
       "      <td>0</td>\n",
       "      <td>2</td>\n",
       "      <td>0</td>\n",
       "      <td>7</td>\n",
       "      <td>210000</td>\n",
       "      <td>3</td>\n",
       "      <td>5689</td>\n",
       "    </tr>\n",
       "    <tr>\n",
       "      <th>1457</th>\n",
       "      <td>252</td>\n",
       "      <td>7</td>\n",
       "      <td>1152</td>\n",
       "      <td>1188</td>\n",
       "      <td>1152</td>\n",
       "      <td>0</td>\n",
       "      <td>2340</td>\n",
       "      <td>0</td>\n",
       "      <td>0</td>\n",
       "      <td>2</td>\n",
       "      <td>0</td>\n",
       "      <td>9</td>\n",
       "      <td>266500</td>\n",
       "      <td>2</td>\n",
       "      <td>5832</td>\n",
       "    </tr>\n",
       "    <tr>\n",
       "      <th>1458</th>\n",
       "      <td>240</td>\n",
       "      <td>5</td>\n",
       "      <td>1078</td>\n",
       "      <td>1078</td>\n",
       "      <td>0</td>\n",
       "      <td>0</td>\n",
       "      <td>1078</td>\n",
       "      <td>1</td>\n",
       "      <td>0</td>\n",
       "      <td>1</td>\n",
       "      <td>0</td>\n",
       "      <td>5</td>\n",
       "      <td>142125</td>\n",
       "      <td>2</td>\n",
       "      <td>3235</td>\n",
       "    </tr>\n",
       "    <tr>\n",
       "      <th>1459</th>\n",
       "      <td>276</td>\n",
       "      <td>5</td>\n",
       "      <td>1256</td>\n",
       "      <td>1256</td>\n",
       "      <td>0</td>\n",
       "      <td>0</td>\n",
       "      <td>1256</td>\n",
       "      <td>1</td>\n",
       "      <td>0</td>\n",
       "      <td>1</td>\n",
       "      <td>1</td>\n",
       "      <td>6</td>\n",
       "      <td>147500</td>\n",
       "      <td>3</td>\n",
       "      <td>3769</td>\n",
       "    </tr>\n",
       "  </tbody>\n",
       "</table>\n",
       "<p>1460 rows × 15 columns</p>\n",
       "</div>"
      ],
      "text/plain": [
       "      GarageArea  OverallQual  TotalBsmtSF  1stFlrSF  2ndFlrSF  LowQualFinSF  \\\n",
       "0            548            7          856       856       854             0   \n",
       "1            460            6         1262      1262         0             0   \n",
       "2            608            7          920       920       866             0   \n",
       "3            642            7          756       961       756             0   \n",
       "4            836            8         1145      1145      1053             0   \n",
       "...          ...          ...          ...       ...       ...           ...   \n",
       "1455         460            6          953       953       694             0   \n",
       "1456         500            6         1542      2073         0             0   \n",
       "1457         252            7         1152      1188      1152             0   \n",
       "1458         240            5         1078      1078         0             0   \n",
       "1459         276            5         1256      1256         0             0   \n",
       "\n",
       "      GrLivArea  BsmtFullBath  BsmtHalfBath  FullBath  HalfBath  TotRmsAbvGrd  \\\n",
       "0          1710             1             0         2         1             8   \n",
       "1          1262             0             1         2         0             6   \n",
       "2          1786             1             0         2         1             6   \n",
       "3          1717             1             0         1         0             7   \n",
       "4          2198             1             0         2         1             9   \n",
       "...         ...           ...           ...       ...       ...           ...   \n",
       "1455       1647             0             0         2         1             7   \n",
       "1456       2073             1             0         2         0             7   \n",
       "1457       2340             0             0         2         0             9   \n",
       "1458       1078             1             0         1         0             5   \n",
       "1459       1256             1             0         1         1             6   \n",
       "\n",
       "      SalePrice  TotalBath  TotalSF  \n",
       "0        208500          4     4277  \n",
       "1        181500          3     3786  \n",
       "2        223500          4     4493  \n",
       "3        140000          2     4191  \n",
       "4        250000          4     5542  \n",
       "...         ...        ...      ...  \n",
       "1455     175000          3     4247  \n",
       "1456     210000          3     5689  \n",
       "1457     266500          2     5832  \n",
       "1458     142125          2     3235  \n",
       "1459     147500          3     3769  \n",
       "\n",
       "[1460 rows x 15 columns]"
      ]
     },
     "execution_count": 8,
     "metadata": {},
     "output_type": "execute_result"
    }
   ],
   "source": [
    "selected_tr"
   ]
  },
  {
   "cell_type": "markdown",
   "id": "1159b352",
   "metadata": {},
   "source": [
    "# Having the required columns"
   ]
  },
  {
   "cell_type": "code",
   "execution_count": 9,
   "id": "84c5f3a3",
   "metadata": {},
   "outputs": [],
   "source": [
    "train_df=selected_tr[['TotRmsAbvGrd','TotalBath','GarageArea','TotalSF','OverallQual','SalePrice']]"
   ]
  },
  {
   "cell_type": "code",
   "execution_count": 10,
   "id": "f467406c",
   "metadata": {},
   "outputs": [
    {
     "data": {
      "text/html": [
       "<div>\n",
       "<style scoped>\n",
       "    .dataframe tbody tr th:only-of-type {\n",
       "        vertical-align: middle;\n",
       "    }\n",
       "\n",
       "    .dataframe tbody tr th {\n",
       "        vertical-align: top;\n",
       "    }\n",
       "\n",
       "    .dataframe thead th {\n",
       "        text-align: right;\n",
       "    }\n",
       "</style>\n",
       "<table border=\"1\" class=\"dataframe\">\n",
       "  <thead>\n",
       "    <tr style=\"text-align: right;\">\n",
       "      <th></th>\n",
       "      <th>TotRmsAbvGrd</th>\n",
       "      <th>TotalBath</th>\n",
       "      <th>GarageArea</th>\n",
       "      <th>TotalSF</th>\n",
       "      <th>OverallQual</th>\n",
       "      <th>SalePrice</th>\n",
       "    </tr>\n",
       "  </thead>\n",
       "  <tbody>\n",
       "    <tr>\n",
       "      <th>0</th>\n",
       "      <td>8</td>\n",
       "      <td>4</td>\n",
       "      <td>548</td>\n",
       "      <td>4277</td>\n",
       "      <td>7</td>\n",
       "      <td>208500</td>\n",
       "    </tr>\n",
       "    <tr>\n",
       "      <th>1</th>\n",
       "      <td>6</td>\n",
       "      <td>3</td>\n",
       "      <td>460</td>\n",
       "      <td>3786</td>\n",
       "      <td>6</td>\n",
       "      <td>181500</td>\n",
       "    </tr>\n",
       "    <tr>\n",
       "      <th>2</th>\n",
       "      <td>6</td>\n",
       "      <td>4</td>\n",
       "      <td>608</td>\n",
       "      <td>4493</td>\n",
       "      <td>7</td>\n",
       "      <td>223500</td>\n",
       "    </tr>\n",
       "    <tr>\n",
       "      <th>3</th>\n",
       "      <td>7</td>\n",
       "      <td>2</td>\n",
       "      <td>642</td>\n",
       "      <td>4191</td>\n",
       "      <td>7</td>\n",
       "      <td>140000</td>\n",
       "    </tr>\n",
       "    <tr>\n",
       "      <th>4</th>\n",
       "      <td>9</td>\n",
       "      <td>4</td>\n",
       "      <td>836</td>\n",
       "      <td>5542</td>\n",
       "      <td>8</td>\n",
       "      <td>250000</td>\n",
       "    </tr>\n",
       "    <tr>\n",
       "      <th>...</th>\n",
       "      <td>...</td>\n",
       "      <td>...</td>\n",
       "      <td>...</td>\n",
       "      <td>...</td>\n",
       "      <td>...</td>\n",
       "      <td>...</td>\n",
       "    </tr>\n",
       "    <tr>\n",
       "      <th>1455</th>\n",
       "      <td>7</td>\n",
       "      <td>3</td>\n",
       "      <td>460</td>\n",
       "      <td>4247</td>\n",
       "      <td>6</td>\n",
       "      <td>175000</td>\n",
       "    </tr>\n",
       "    <tr>\n",
       "      <th>1456</th>\n",
       "      <td>7</td>\n",
       "      <td>3</td>\n",
       "      <td>500</td>\n",
       "      <td>5689</td>\n",
       "      <td>6</td>\n",
       "      <td>210000</td>\n",
       "    </tr>\n",
       "    <tr>\n",
       "      <th>1457</th>\n",
       "      <td>9</td>\n",
       "      <td>2</td>\n",
       "      <td>252</td>\n",
       "      <td>5832</td>\n",
       "      <td>7</td>\n",
       "      <td>266500</td>\n",
       "    </tr>\n",
       "    <tr>\n",
       "      <th>1458</th>\n",
       "      <td>5</td>\n",
       "      <td>2</td>\n",
       "      <td>240</td>\n",
       "      <td>3235</td>\n",
       "      <td>5</td>\n",
       "      <td>142125</td>\n",
       "    </tr>\n",
       "    <tr>\n",
       "      <th>1459</th>\n",
       "      <td>6</td>\n",
       "      <td>3</td>\n",
       "      <td>276</td>\n",
       "      <td>3769</td>\n",
       "      <td>5</td>\n",
       "      <td>147500</td>\n",
       "    </tr>\n",
       "  </tbody>\n",
       "</table>\n",
       "<p>1460 rows × 6 columns</p>\n",
       "</div>"
      ],
      "text/plain": [
       "      TotRmsAbvGrd  TotalBath  GarageArea  TotalSF  OverallQual  SalePrice\n",
       "0                8          4         548     4277            7     208500\n",
       "1                6          3         460     3786            6     181500\n",
       "2                6          4         608     4493            7     223500\n",
       "3                7          2         642     4191            7     140000\n",
       "4                9          4         836     5542            8     250000\n",
       "...            ...        ...         ...      ...          ...        ...\n",
       "1455             7          3         460     4247            6     175000\n",
       "1456             7          3         500     5689            6     210000\n",
       "1457             9          2         252     5832            7     266500\n",
       "1458             5          2         240     3235            5     142125\n",
       "1459             6          3         276     3769            5     147500\n",
       "\n",
       "[1460 rows x 6 columns]"
      ]
     },
     "execution_count": 10,
     "metadata": {},
     "output_type": "execute_result"
    }
   ],
   "source": [
    "train_df"
   ]
  },
  {
   "cell_type": "markdown",
   "id": "de7243e3",
   "metadata": {},
   "source": [
    "# Split the dataset and create the pipeline"
   ]
  },
  {
   "cell_type": "code",
   "execution_count": 12,
   "id": "e4871d0f",
   "metadata": {},
   "outputs": [
    {
     "name": "stdout",
     "output_type": "stream",
     "text": [
      "Rows in train set:1168\n",
      "Rows in test set:292\n",
      "\n"
     ]
    }
   ],
   "source": [
    "from sklearn.model_selection import train_test_split\n",
    "train_set,test_set=train_test_split(train_df,test_size=0.2,random_state=42)\n",
    "print(f\"Rows in train set:{len(train_set)}\\nRows in test set:{len(test_set)}\\n\")"
   ]
  },
  {
   "cell_type": "code",
   "execution_count": 13,
   "id": "f082f378",
   "metadata": {},
   "outputs": [],
   "source": [
    "housing=train_set.drop(\"SalePrice\",axis=1)\n",
    "housing_labels=train_set[\"SalePrice\"].copy()"
   ]
  },
  {
   "cell_type": "code",
   "execution_count": 14,
   "id": "066e010d",
   "metadata": {},
   "outputs": [],
   "source": [
    "from sklearn.impute import SimpleImputer\n",
    "from sklearn.pipeline import Pipeline\n",
    "from sklearn.preprocessing import StandardScaler\n",
    "my_pipeline=Pipeline([\n",
    "    ('imputer',SimpleImputer(strategy=\"median\")),\n",
    "    ('std_scaler',StandardScaler())\n",
    "])"
   ]
  },
  {
   "cell_type": "code",
   "execution_count": 15,
   "id": "024c6ed9",
   "metadata": {},
   "outputs": [],
   "source": [
    "x_train=my_pipeline.fit_transform(housing)"
   ]
  },
  {
   "cell_type": "code",
   "execution_count": 16,
   "id": "8163c700",
   "metadata": {},
   "outputs": [
    {
     "data": {
      "text/plain": [
       "array([[-0.96456591, -0.48377079, -0.86383727, -0.13307498, -0.82044456],\n",
       "       [ 0.27075534,  0.61127627, -0.45626397, -0.13460458, -0.08893368],\n",
       "       [-1.58222654, -1.57881784, -2.25716927, -1.32233699, -0.82044456],\n",
       "       ...,\n",
       "       [-0.96456591, -0.48377079,  0.45366713, -1.16555326, -0.82044456],\n",
       "       [ 0.27075534, -0.48377079, -1.23349678, -0.26997395,  0.64257719],\n",
       "       [ 0.27075534, -0.48377079,  0.87071888,  0.27991633,  0.64257719]])"
      ]
     },
     "execution_count": 16,
     "metadata": {},
     "output_type": "execute_result"
    }
   ],
   "source": [
    "x_train"
   ]
  },
  {
   "cell_type": "code",
   "execution_count": 17,
   "id": "b1330c47",
   "metadata": {},
   "outputs": [],
   "source": [
    "y_train=housing_labels"
   ]
  },
  {
   "cell_type": "code",
   "execution_count": 18,
   "id": "b1621164",
   "metadata": {},
   "outputs": [
    {
     "data": {
      "text/plain": [
       "(1168,)"
      ]
     },
     "execution_count": 18,
     "metadata": {},
     "output_type": "execute_result"
    }
   ],
   "source": [
    "y_train.shape"
   ]
  },
  {
   "cell_type": "markdown",
   "id": "c5f2abec",
   "metadata": {},
   "source": [
    "# CORRELATIONS"
   ]
  },
  {
   "cell_type": "code",
   "execution_count": 19,
   "id": "ef8f7737",
   "metadata": {},
   "outputs": [
    {
     "data": {
      "image/png": "[encoded data removed]",
      "text/plain": [
       "<Figure size 1080x1080 with 42 Axes>"
      ]
     },
     "metadata": {
      "needs_background": "light"
     },
     "output_type": "display_data"
    }
   ],
   "source": [
    "import seaborn as sns\n",
    "import warnings\n",
    "warnings.filterwarnings(\"ignore\",category=UserWarning)\n",
    "%matplotlib inline\n",
    "sns.pairplot(train_df)\n",
    "plt.tight_layout()\n",
    "plt.show()"
   ]
  },
  {
   "cell_type": "code",
   "execution_count": 21,
   "id": "d1746fcc",
   "metadata": {},
   "outputs": [
    {
     "data": {
      "text/plain": [
       "SalePrice       1.000000\n",
       "OverallQual     0.790982\n",
       "TotalSF         0.773959\n",
       "GarageArea      0.623431\n",
       "TotalBath       0.613005\n",
       "TotRmsAbvGrd    0.533723\n",
       "Name: SalePrice, dtype: float64"
      ]
     },
     "execution_count": 21,
     "metadata": {},
     "output_type": "execute_result"
    }
   ],
   "source": [
    "corr_matrix=train_df.corr()\n",
    "corr_matrix['SalePrice'].sort_values(ascending=False)"
   ]
  },
  {
   "cell_type": "code",
   "execution_count": 23,
   "id": "c9d5fd01",
   "metadata": {},
   "outputs": [
    {
     "data": {
      "text/plain": [
       "<AxesSubplot:>"
      ]
     },
     "execution_count": 23,
     "metadata": {},
     "output_type": "execute_result"
    },
    {
     "data": {
      "image/png": "[encoded data removed]",
      "text/plain": [
       "<Figure size 432x288 with 2 Axes>"
      ]
     },
     "metadata": {
      "needs_background": "light"
     },
     "output_type": "display_data"
    }
   ],
   "source": [
    "sns.heatmap(train_df.corr(),annot=True)"
   ]
  },
  {
   "cell_type": "markdown",
   "id": "264a53f1",
   "metadata": {},
   "source": [
    "# TEST DATAFRAME"
   ]
  },
  {
   "cell_type": "code",
   "execution_count": 24,
   "id": "5913b795",
   "metadata": {},
   "outputs": [],
   "source": [
    "testdf=pd.read_csv(\"test.csv\")"
   ]
  },
  {
   "cell_type": "code",
   "execution_count": 25,
   "id": "22067ec8",
   "metadata": {},
   "outputs": [
    {
     "data": {
      "text/html": [
       "<div>\n",
       "<style scoped>\n",
       "    .dataframe tbody tr th:only-of-type {\n",
       "        vertical-align: middle;\n",
       "    }\n",
       "\n",
       "    .dataframe tbody tr th {\n",
       "        vertical-align: top;\n",
       "    }\n",
       "\n",
       "    .dataframe thead th {\n",
       "        text-align: right;\n",
       "    }\n",
       "</style>\n",
       "<table border=\"1\" class=\"dataframe\">\n",
       "  <thead>\n",
       "    <tr style=\"text-align: right;\">\n",
       "      <th></th>\n",
       "      <th>Id</th>\n",
       "      <th>MSSubClass</th>\n",
       "      <th>MSZoning</th>\n",
       "      <th>LotFrontage</th>\n",
       "      <th>LotArea</th>\n",
       "      <th>Street</th>\n",
       "      <th>Alley</th>\n",
       "      <th>LotShape</th>\n",
       "      <th>LandContour</th>\n",
       "      <th>Utilities</th>\n",
       "      <th>...</th>\n",
       "      <th>ScreenPorch</th>\n",
       "      <th>PoolArea</th>\n",
       "      <th>PoolQC</th>\n",
       "      <th>Fence</th>\n",
       "      <th>MiscFeature</th>\n",
       "      <th>MiscVal</th>\n",
       "      <th>MoSold</th>\n",
       "      <th>YrSold</th>\n",
       "      <th>SaleType</th>\n",
       "      <th>SaleCondition</th>\n",
       "    </tr>\n",
       "  </thead>\n",
       "  <tbody>\n",
       "    <tr>\n",
       "      <th>0</th>\n",
       "      <td>1461</td>\n",
       "      <td>20</td>\n",
       "      <td>RH</td>\n",
       "      <td>80.0</td>\n",
       "      <td>11622</td>\n",
       "      <td>Pave</td>\n",
       "      <td>NaN</td>\n",
       "      <td>Reg</td>\n",
       "      <td>Lvl</td>\n",
       "      <td>AllPub</td>\n",
       "      <td>...</td>\n",
       "      <td>120</td>\n",
       "      <td>0</td>\n",
       "      <td>NaN</td>\n",
       "      <td>MnPrv</td>\n",
       "      <td>NaN</td>\n",
       "      <td>0</td>\n",
       "      <td>6</td>\n",
       "      <td>2010</td>\n",
       "      <td>WD</td>\n",
       "      <td>Normal</td>\n",
       "    </tr>\n",
       "    <tr>\n",
       "      <th>1</th>\n",
       "      <td>1462</td>\n",
       "      <td>20</td>\n",
       "      <td>RL</td>\n",
       "      <td>81.0</td>\n",
       "      <td>14267</td>\n",
       "      <td>Pave</td>\n",
       "      <td>NaN</td>\n",
       "      <td>IR1</td>\n",
       "      <td>Lvl</td>\n",
       "      <td>AllPub</td>\n",
       "      <td>...</td>\n",
       "      <td>0</td>\n",
       "      <td>0</td>\n",
       "      <td>NaN</td>\n",
       "      <td>NaN</td>\n",
       "      <td>Gar2</td>\n",
       "      <td>12500</td>\n",
       "      <td>6</td>\n",
       "      <td>2010</td>\n",
       "      <td>WD</td>\n",
       "      <td>Normal</td>\n",
       "    </tr>\n",
       "    <tr>\n",
       "      <th>2</th>\n",
       "      <td>1463</td>\n",
       "      <td>60</td>\n",
       "      <td>RL</td>\n",
       "      <td>74.0</td>\n",
       "      <td>13830</td>\n",
       "      <td>Pave</td>\n",
       "      <td>NaN</td>\n",
       "      <td>IR1</td>\n",
       "      <td>Lvl</td>\n",
       "      <td>AllPub</td>\n",
       "      <td>...</td>\n",
       "      <td>0</td>\n",
       "      <td>0</td>\n",
       "      <td>NaN</td>\n",
       "      <td>MnPrv</td>\n",
       "      <td>NaN</td>\n",
       "      <td>0</td>\n",
       "      <td>3</td>\n",
       "      <td>2010</td>\n",
       "      <td>WD</td>\n",
       "      <td>Normal</td>\n",
       "    </tr>\n",
       "    <tr>\n",
       "      <th>3</th>\n",
       "      <td>1464</td>\n",
       "      <td>60</td>\n",
       "      <td>RL</td>\n",
       "      <td>78.0</td>\n",
       "      <td>9978</td>\n",
       "      <td>Pave</td>\n",
       "      <td>NaN</td>\n",
       "      <td>IR1</td>\n",
       "      <td>Lvl</td>\n",
       "      <td>AllPub</td>\n",
       "      <td>...</td>\n",
       "      <td>0</td>\n",
       "      <td>0</td>\n",
       "      <td>NaN</td>\n",
       "      <td>NaN</td>\n",
       "      <td>NaN</td>\n",
       "      <td>0</td>\n",
       "      <td>6</td>\n",
       "      <td>2010</td>\n",
       "      <td>WD</td>\n",
       "      <td>Normal</td>\n",
       "    </tr>\n",
       "    <tr>\n",
       "      <th>4</th>\n",
       "      <td>1465</td>\n",
       "      <td>120</td>\n",
       "      <td>RL</td>\n",
       "      <td>43.0</td>\n",
       "      <td>5005</td>\n",
       "      <td>Pave</td>\n",
       "      <td>NaN</td>\n",
       "      <td>IR1</td>\n",
       "      <td>HLS</td>\n",
       "      <td>AllPub</td>\n",
       "      <td>...</td>\n",
       "      <td>144</td>\n",
       "      <td>0</td>\n",
       "      <td>NaN</td>\n",
       "      <td>NaN</td>\n",
       "      <td>NaN</td>\n",
       "      <td>0</td>\n",
       "      <td>1</td>\n",
       "      <td>2010</td>\n",
       "      <td>WD</td>\n",
       "      <td>Normal</td>\n",
       "    </tr>\n",
       "  </tbody>\n",
       "</table>\n",
       "<p>5 rows × 80 columns</p>\n",
       "</div>"
      ],
      "text/plain": [
       "     Id  MSSubClass MSZoning  LotFrontage  LotArea Street Alley LotShape  \\\n",
       "0  1461          20       RH         80.0    11622   Pave   NaN      Reg   \n",
       "1  1462          20       RL         81.0    14267   Pave   NaN      IR1   \n",
       "2  1463          60       RL         74.0    13830   Pave   NaN      IR1   \n",
       "3  1464          60       RL         78.0     9978   Pave   NaN      IR1   \n",
       "4  1465         120       RL         43.0     5005   Pave   NaN      IR1   \n",
       "\n",
       "  LandContour Utilities  ... ScreenPorch PoolArea PoolQC  Fence MiscFeature  \\\n",
       "0         Lvl    AllPub  ...         120        0    NaN  MnPrv         NaN   \n",
       "1         Lvl    AllPub  ...           0        0    NaN    NaN        Gar2   \n",
       "2         Lvl    AllPub  ...           0        0    NaN  MnPrv         NaN   \n",
       "3         Lvl    AllPub  ...           0        0    NaN    NaN         NaN   \n",
       "4         HLS    AllPub  ...         144        0    NaN    NaN         NaN   \n",
       "\n",
       "  MiscVal MoSold  YrSold  SaleType  SaleCondition  \n",
       "0       0      6    2010        WD         Normal  \n",
       "1   12500      6    2010        WD         Normal  \n",
       "2       0      3    2010        WD         Normal  \n",
       "3       0      6    2010        WD         Normal  \n",
       "4       0      1    2010        WD         Normal  \n",
       "\n",
       "[5 rows x 80 columns]"
      ]
     },
     "execution_count": 25,
     "metadata": {},
     "output_type": "execute_result"
    }
   ],
   "source": [
    "testdf.head()"
   ]
  },
  {
   "cell_type": "code",
   "execution_count": 28,
   "id": "9406d557",
   "metadata": {},
   "outputs": [],
   "source": [
    "req_tst=[\"GarageArea\",\"OverallQual\",\"TotalBsmtSF\",\"1stFlrSF\",\"2ndFlrSF\",\"LowQualFinSF\",\"GrLivArea\",\"BsmtFullBath\",\"BsmtHalfBath\",\"FullBath\",\"HalfBath\",\"TotRmsAbvGrd\"]"
   ]
  },
  {
   "cell_type": "code",
   "execution_count": 29,
   "id": "ca9760f1",
   "metadata": {},
   "outputs": [],
   "source": [
    "selected_tst=testdf[req_tst]"
   ]
  },
  {
   "cell_type": "code",
   "execution_count": 30,
   "id": "0c2db542",
   "metadata": {},
   "outputs": [
    {
     "name": "stderr",
     "output_type": "stream",
     "text": [
      "C:\\Users\\admin\\anaconda3\\lib\\site-packages\\pandas\\core\\indexing.py:1597: SettingWithCopyWarning: \n",
      "A value is trying to be set on a copy of a slice from a DataFrame.\n",
      "Try using .loc[row_indexer,col_indexer] = value instead\n",
      "\n",
      "See the caveats in the documentation: https://pandas.pydata.org/pandas-docs/stable/user_guide/indexing.html#returning-a-view-versus-a-copy\n",
      "  self.obj[key] = value\n",
      "C:\\Users\\admin\\anaconda3\\lib\\site-packages\\pandas\\core\\indexing.py:1676: SettingWithCopyWarning: \n",
      "A value is trying to be set on a copy of a slice from a DataFrame.\n",
      "Try using .loc[row_indexer,col_indexer] = value instead\n",
      "\n",
      "See the caveats in the documentation: https://pandas.pydata.org/pandas-docs/stable/user_guide/indexing.html#returning-a-view-versus-a-copy\n",
      "  self._setitem_single_column(ilocs[0], value, pi)\n"
     ]
    }
   ],
   "source": [
    "selected_tst.loc[:,'TotalBath']=(selected_tr['BsmtFullBath'].fillna(0)+\n",
    "                                selected_tr['BsmtHalfBath'].fillna(0)+\n",
    "                               selected_tr['FullBath'].fillna(0)+\n",
    "                               selected_tr['HalfBath'].fillna(0))\n",
    "selected_tst.loc[:,'TotalSF']=(selected_tr['TotalBsmtSF'].fillna(0)+\n",
    "                             selected_tr['1stFlrSF'].fillna(0)+\n",
    "                             selected_tr['2ndFlrSF'].fillna(0)+\n",
    "                             selected_tr['LowQualFinSF'].fillna(0)+\n",
    "                             selected_tr['BsmtFullBath'].fillna(0)+\n",
    "                             selected_tr['GrLivArea'].fillna(0))"
   ]
  },
  {
   "cell_type": "code",
   "execution_count": 31,
   "id": "4a51a66f",
   "metadata": {},
   "outputs": [
    {
     "data": {
      "text/html": [
       "<div>\n",
       "<style scoped>\n",
       "    .dataframe tbody tr th:only-of-type {\n",
       "        vertical-align: middle;\n",
       "    }\n",
       "\n",
       "    .dataframe tbody tr th {\n",
       "        vertical-align: top;\n",
       "    }\n",
       "\n",
       "    .dataframe thead th {\n",
       "        text-align: right;\n",
       "    }\n",
       "</style>\n",
       "<table border=\"1\" class=\"dataframe\">\n",
       "  <thead>\n",
       "    <tr style=\"text-align: right;\">\n",
       "      <th></th>\n",
       "      <th>GarageArea</th>\n",
       "      <th>OverallQual</th>\n",
       "      <th>TotalBsmtSF</th>\n",
       "      <th>1stFlrSF</th>\n",
       "      <th>2ndFlrSF</th>\n",
       "      <th>LowQualFinSF</th>\n",
       "      <th>GrLivArea</th>\n",
       "      <th>BsmtFullBath</th>\n",
       "      <th>BsmtHalfBath</th>\n",
       "      <th>FullBath</th>\n",
       "      <th>HalfBath</th>\n",
       "      <th>TotRmsAbvGrd</th>\n",
       "      <th>TotalBath</th>\n",
       "      <th>TotalSF</th>\n",
       "    </tr>\n",
       "  </thead>\n",
       "  <tbody>\n",
       "    <tr>\n",
       "      <th>0</th>\n",
       "      <td>730.0</td>\n",
       "      <td>5</td>\n",
       "      <td>882.0</td>\n",
       "      <td>896</td>\n",
       "      <td>0</td>\n",
       "      <td>0</td>\n",
       "      <td>896</td>\n",
       "      <td>0.0</td>\n",
       "      <td>0.0</td>\n",
       "      <td>1</td>\n",
       "      <td>0</td>\n",
       "      <td>5</td>\n",
       "      <td>4</td>\n",
       "      <td>4277</td>\n",
       "    </tr>\n",
       "    <tr>\n",
       "      <th>1</th>\n",
       "      <td>312.0</td>\n",
       "      <td>6</td>\n",
       "      <td>1329.0</td>\n",
       "      <td>1329</td>\n",
       "      <td>0</td>\n",
       "      <td>0</td>\n",
       "      <td>1329</td>\n",
       "      <td>0.0</td>\n",
       "      <td>0.0</td>\n",
       "      <td>1</td>\n",
       "      <td>1</td>\n",
       "      <td>6</td>\n",
       "      <td>3</td>\n",
       "      <td>3786</td>\n",
       "    </tr>\n",
       "    <tr>\n",
       "      <th>2</th>\n",
       "      <td>482.0</td>\n",
       "      <td>5</td>\n",
       "      <td>928.0</td>\n",
       "      <td>928</td>\n",
       "      <td>701</td>\n",
       "      <td>0</td>\n",
       "      <td>1629</td>\n",
       "      <td>0.0</td>\n",
       "      <td>0.0</td>\n",
       "      <td>2</td>\n",
       "      <td>1</td>\n",
       "      <td>6</td>\n",
       "      <td>4</td>\n",
       "      <td>4493</td>\n",
       "    </tr>\n",
       "    <tr>\n",
       "      <th>3</th>\n",
       "      <td>470.0</td>\n",
       "      <td>6</td>\n",
       "      <td>926.0</td>\n",
       "      <td>926</td>\n",
       "      <td>678</td>\n",
       "      <td>0</td>\n",
       "      <td>1604</td>\n",
       "      <td>0.0</td>\n",
       "      <td>0.0</td>\n",
       "      <td>2</td>\n",
       "      <td>1</td>\n",
       "      <td>7</td>\n",
       "      <td>2</td>\n",
       "      <td>4191</td>\n",
       "    </tr>\n",
       "    <tr>\n",
       "      <th>4</th>\n",
       "      <td>506.0</td>\n",
       "      <td>8</td>\n",
       "      <td>1280.0</td>\n",
       "      <td>1280</td>\n",
       "      <td>0</td>\n",
       "      <td>0</td>\n",
       "      <td>1280</td>\n",
       "      <td>0.0</td>\n",
       "      <td>0.0</td>\n",
       "      <td>2</td>\n",
       "      <td>0</td>\n",
       "      <td>5</td>\n",
       "      <td>4</td>\n",
       "      <td>5542</td>\n",
       "    </tr>\n",
       "    <tr>\n",
       "      <th>...</th>\n",
       "      <td>...</td>\n",
       "      <td>...</td>\n",
       "      <td>...</td>\n",
       "      <td>...</td>\n",
       "      <td>...</td>\n",
       "      <td>...</td>\n",
       "      <td>...</td>\n",
       "      <td>...</td>\n",
       "      <td>...</td>\n",
       "      <td>...</td>\n",
       "      <td>...</td>\n",
       "      <td>...</td>\n",
       "      <td>...</td>\n",
       "      <td>...</td>\n",
       "    </tr>\n",
       "    <tr>\n",
       "      <th>1454</th>\n",
       "      <td>0.0</td>\n",
       "      <td>4</td>\n",
       "      <td>546.0</td>\n",
       "      <td>546</td>\n",
       "      <td>546</td>\n",
       "      <td>0</td>\n",
       "      <td>1092</td>\n",
       "      <td>0.0</td>\n",
       "      <td>0.0</td>\n",
       "      <td>1</td>\n",
       "      <td>1</td>\n",
       "      <td>5</td>\n",
       "      <td>3</td>\n",
       "      <td>3664</td>\n",
       "    </tr>\n",
       "    <tr>\n",
       "      <th>1455</th>\n",
       "      <td>286.0</td>\n",
       "      <td>4</td>\n",
       "      <td>546.0</td>\n",
       "      <td>546</td>\n",
       "      <td>546</td>\n",
       "      <td>0</td>\n",
       "      <td>1092</td>\n",
       "      <td>0.0</td>\n",
       "      <td>0.0</td>\n",
       "      <td>1</td>\n",
       "      <td>1</td>\n",
       "      <td>6</td>\n",
       "      <td>3</td>\n",
       "      <td>4247</td>\n",
       "    </tr>\n",
       "    <tr>\n",
       "      <th>1456</th>\n",
       "      <td>576.0</td>\n",
       "      <td>5</td>\n",
       "      <td>1224.0</td>\n",
       "      <td>1224</td>\n",
       "      <td>0</td>\n",
       "      <td>0</td>\n",
       "      <td>1224</td>\n",
       "      <td>1.0</td>\n",
       "      <td>0.0</td>\n",
       "      <td>1</td>\n",
       "      <td>0</td>\n",
       "      <td>7</td>\n",
       "      <td>3</td>\n",
       "      <td>5689</td>\n",
       "    </tr>\n",
       "    <tr>\n",
       "      <th>1457</th>\n",
       "      <td>0.0</td>\n",
       "      <td>5</td>\n",
       "      <td>912.0</td>\n",
       "      <td>970</td>\n",
       "      <td>0</td>\n",
       "      <td>0</td>\n",
       "      <td>970</td>\n",
       "      <td>0.0</td>\n",
       "      <td>1.0</td>\n",
       "      <td>1</td>\n",
       "      <td>0</td>\n",
       "      <td>6</td>\n",
       "      <td>2</td>\n",
       "      <td>5832</td>\n",
       "    </tr>\n",
       "    <tr>\n",
       "      <th>1458</th>\n",
       "      <td>650.0</td>\n",
       "      <td>7</td>\n",
       "      <td>996.0</td>\n",
       "      <td>996</td>\n",
       "      <td>1004</td>\n",
       "      <td>0</td>\n",
       "      <td>2000</td>\n",
       "      <td>0.0</td>\n",
       "      <td>0.0</td>\n",
       "      <td>2</td>\n",
       "      <td>1</td>\n",
       "      <td>9</td>\n",
       "      <td>2</td>\n",
       "      <td>3235</td>\n",
       "    </tr>\n",
       "  </tbody>\n",
       "</table>\n",
       "<p>1459 rows × 14 columns</p>\n",
       "</div>"
      ],
      "text/plain": [
       "      GarageArea  OverallQual  TotalBsmtSF  1stFlrSF  2ndFlrSF  LowQualFinSF  \\\n",
       "0          730.0            5        882.0       896         0             0   \n",
       "1          312.0            6       1329.0      1329         0             0   \n",
       "2          482.0            5        928.0       928       701             0   \n",
       "3          470.0            6        926.0       926       678             0   \n",
       "4          506.0            8       1280.0      1280         0             0   \n",
       "...          ...          ...          ...       ...       ...           ...   \n",
       "1454         0.0            4        546.0       546       546             0   \n",
       "1455       286.0            4        546.0       546       546             0   \n",
       "1456       576.0            5       1224.0      1224         0             0   \n",
       "1457         0.0            5        912.0       970         0             0   \n",
       "1458       650.0            7        996.0       996      1004             0   \n",
       "\n",
       "      GrLivArea  BsmtFullBath  BsmtHalfBath  FullBath  HalfBath  TotRmsAbvGrd  \\\n",
       "0           896           0.0           0.0         1         0             5   \n",
       "1          1329           0.0           0.0         1         1             6   \n",
       "2          1629           0.0           0.0         2         1             6   \n",
       "3          1604           0.0           0.0         2         1             7   \n",
       "4          1280           0.0           0.0         2         0             5   \n",
       "...         ...           ...           ...       ...       ...           ...   \n",
       "1454       1092           0.0           0.0         1         1             5   \n",
       "1455       1092           0.0           0.0         1         1             6   \n",
       "1456       1224           1.0           0.0         1         0             7   \n",
       "1457        970           0.0           1.0         1         0             6   \n",
       "1458       2000           0.0           0.0         2         1             9   \n",
       "\n",
       "      TotalBath  TotalSF  \n",
       "0             4     4277  \n",
       "1             3     3786  \n",
       "2             4     4493  \n",
       "3             2     4191  \n",
       "4             4     5542  \n",
       "...         ...      ...  \n",
       "1454          3     3664  \n",
       "1455          3     4247  \n",
       "1456          3     5689  \n",
       "1457          2     5832  \n",
       "1458          2     3235  \n",
       "\n",
       "[1459 rows x 14 columns]"
      ]
     },
     "execution_count": 31,
     "metadata": {},
     "output_type": "execute_result"
    }
   ],
   "source": [
    "selected_tst"
   ]
  },
  {
   "cell_type": "code",
   "execution_count": 32,
   "id": "7de8d698",
   "metadata": {},
   "outputs": [],
   "source": [
    "test_df_unproc=selected_tst[['TotRmsAbvGrd','TotalBath','GarageArea','TotalSF','OverallQual']]"
   ]
  },
  {
   "cell_type": "code",
   "execution_count": 33,
   "id": "d32d356c",
   "metadata": {},
   "outputs": [
    {
     "data": {
      "text/html": [
       "<div>\n",
       "<style scoped>\n",
       "    .dataframe tbody tr th:only-of-type {\n",
       "        vertical-align: middle;\n",
       "    }\n",
       "\n",
       "    .dataframe tbody tr th {\n",
       "        vertical-align: top;\n",
       "    }\n",
       "\n",
       "    .dataframe thead th {\n",
       "        text-align: right;\n",
       "    }\n",
       "</style>\n",
       "<table border=\"1\" class=\"dataframe\">\n",
       "  <thead>\n",
       "    <tr style=\"text-align: right;\">\n",
       "      <th></th>\n",
       "      <th>TotRmsAbvGrd</th>\n",
       "      <th>TotalBath</th>\n",
       "      <th>GarageArea</th>\n",
       "      <th>TotalSF</th>\n",
       "      <th>OverallQual</th>\n",
       "    </tr>\n",
       "  </thead>\n",
       "  <tbody>\n",
       "    <tr>\n",
       "      <th>0</th>\n",
       "      <td>5</td>\n",
       "      <td>4</td>\n",
       "      <td>730.0</td>\n",
       "      <td>4277</td>\n",
       "      <td>5</td>\n",
       "    </tr>\n",
       "    <tr>\n",
       "      <th>1</th>\n",
       "      <td>6</td>\n",
       "      <td>3</td>\n",
       "      <td>312.0</td>\n",
       "      <td>3786</td>\n",
       "      <td>6</td>\n",
       "    </tr>\n",
       "    <tr>\n",
       "      <th>2</th>\n",
       "      <td>6</td>\n",
       "      <td>4</td>\n",
       "      <td>482.0</td>\n",
       "      <td>4493</td>\n",
       "      <td>5</td>\n",
       "    </tr>\n",
       "    <tr>\n",
       "      <th>3</th>\n",
       "      <td>7</td>\n",
       "      <td>2</td>\n",
       "      <td>470.0</td>\n",
       "      <td>4191</td>\n",
       "      <td>6</td>\n",
       "    </tr>\n",
       "    <tr>\n",
       "      <th>4</th>\n",
       "      <td>5</td>\n",
       "      <td>4</td>\n",
       "      <td>506.0</td>\n",
       "      <td>5542</td>\n",
       "      <td>8</td>\n",
       "    </tr>\n",
       "    <tr>\n",
       "      <th>...</th>\n",
       "      <td>...</td>\n",
       "      <td>...</td>\n",
       "      <td>...</td>\n",
       "      <td>...</td>\n",
       "      <td>...</td>\n",
       "    </tr>\n",
       "    <tr>\n",
       "      <th>1454</th>\n",
       "      <td>5</td>\n",
       "      <td>3</td>\n",
       "      <td>0.0</td>\n",
       "      <td>3664</td>\n",
       "      <td>4</td>\n",
       "    </tr>\n",
       "    <tr>\n",
       "      <th>1455</th>\n",
       "      <td>6</td>\n",
       "      <td>3</td>\n",
       "      <td>286.0</td>\n",
       "      <td>4247</td>\n",
       "      <td>4</td>\n",
       "    </tr>\n",
       "    <tr>\n",
       "      <th>1456</th>\n",
       "      <td>7</td>\n",
       "      <td>3</td>\n",
       "      <td>576.0</td>\n",
       "      <td>5689</td>\n",
       "      <td>5</td>\n",
       "    </tr>\n",
       "    <tr>\n",
       "      <th>1457</th>\n",
       "      <td>6</td>\n",
       "      <td>2</td>\n",
       "      <td>0.0</td>\n",
       "      <td>5832</td>\n",
       "      <td>5</td>\n",
       "    </tr>\n",
       "    <tr>\n",
       "      <th>1458</th>\n",
       "      <td>9</td>\n",
       "      <td>2</td>\n",
       "      <td>650.0</td>\n",
       "      <td>3235</td>\n",
       "      <td>7</td>\n",
       "    </tr>\n",
       "  </tbody>\n",
       "</table>\n",
       "<p>1459 rows × 5 columns</p>\n",
       "</div>"
      ],
      "text/plain": [
       "      TotRmsAbvGrd  TotalBath  GarageArea  TotalSF  OverallQual\n",
       "0                5          4       730.0     4277            5\n",
       "1                6          3       312.0     3786            6\n",
       "2                6          4       482.0     4493            5\n",
       "3                7          2       470.0     4191            6\n",
       "4                5          4       506.0     5542            8\n",
       "...            ...        ...         ...      ...          ...\n",
       "1454             5          3         0.0     3664            4\n",
       "1455             6          3       286.0     4247            4\n",
       "1456             7          3       576.0     5689            5\n",
       "1457             6          2         0.0     5832            5\n",
       "1458             9          2       650.0     3235            7\n",
       "\n",
       "[1459 rows x 5 columns]"
      ]
     },
     "execution_count": 33,
     "metadata": {},
     "output_type": "execute_result"
    }
   ],
   "source": [
    "test_df_unproc"
   ]
  },
  {
   "cell_type": "code",
   "execution_count": 35,
   "id": "4d2d0ec3",
   "metadata": {},
   "outputs": [
    {
     "data": {
      "text/plain": [
       "array([[-0.96456591,  1.70632332,  1.2024646 ,  0.1223678 , -0.82044456],\n",
       "       [-0.34690528,  0.61127627, -0.77853123, -0.25314838, -0.08893368],\n",
       "       [-0.34690528,  1.70632332,  0.02713693,  0.28756432, -0.82044456],\n",
       "       ...,\n",
       "       [ 0.27075534,  0.61127627,  0.47262403,  1.20226359, -0.82044456],\n",
       "       [-0.34690528, -0.48377079, -2.25716927,  1.31162981, -0.82044456],\n",
       "       [ 1.50607659, -0.48377079,  0.82332664, -0.67455247,  0.64257719]])"
      ]
     },
     "execution_count": 35,
     "metadata": {},
     "output_type": "execute_result"
    }
   ],
   "source": [
    "test_df=test_df_unproc.fillna(test_df_unproc.mean())\n",
    "x_test=my_pipeline.transform(test_df[['TotRmsAbvGrd','TotalBath','GarageArea','TotalSF','OverallQual']].values)\n",
    "x_test"
   ]
  },
  {
   "cell_type": "markdown",
   "id": "c5fee304",
   "metadata": {},
   "source": [
    "# Model Selection"
   ]
  },
  {
   "cell_type": "code",
   "execution_count": 39,
   "id": "98816b35",
   "metadata": {},
   "outputs": [
    {
     "data": {
      "text/plain": [
       "RandomForestRegressor()"
      ]
     },
     "execution_count": 39,
     "metadata": {},
     "output_type": "execute_result"
    }
   ],
   "source": [
    "from sklearn.ensemble import RandomForestRegressor\n",
    "model=RandomForestRegressor()\n",
    "model.fit(x_train,y_train)"
   ]
  },
  {
   "cell_type": "code",
   "execution_count": 40,
   "id": "226be8d2",
   "metadata": {},
   "outputs": [],
   "source": [
    "y_train_pred=model.predict(x_train)"
   ]
  },
  {
   "cell_type": "code",
   "execution_count": 41,
   "id": "365ef6fe",
   "metadata": {},
   "outputs": [
    {
     "data": {
      "text/plain": [
       "array([147674.  , 173441.5 ,  92145.  , 163728.61, 146802.  ])"
      ]
     },
     "execution_count": 41,
     "metadata": {},
     "output_type": "execute_result"
    }
   ],
   "source": [
    "y_train_pred[:5]"
   ]
  },
  {
   "cell_type": "code",
   "execution_count": 42,
   "id": "91c23d1c",
   "metadata": {},
   "outputs": [],
   "source": [
    "some_data=housing.iloc[:5]\n",
    "some_labels=housing_labels.iloc[:5]"
   ]
  },
  {
   "cell_type": "code",
   "execution_count": 43,
   "id": "26bd6ed9",
   "metadata": {},
   "outputs": [],
   "source": [
    "proc_data=my_pipeline.transform(some_data)"
   ]
  },
  {
   "cell_type": "code",
   "execution_count": 44,
   "id": "43a22c87",
   "metadata": {},
   "outputs": [
    {
     "data": {
      "text/plain": [
       "array([147674.  , 173441.5 ,  92145.  , 163728.61, 146802.  ])"
      ]
     },
     "execution_count": 44,
     "metadata": {},
     "output_type": "execute_result"
    }
   ],
   "source": [
    "model.predict(proc_data)"
   ]
  },
  {
   "cell_type": "code",
   "execution_count": 46,
   "id": "fdb0f558",
   "metadata": {},
   "outputs": [
    {
     "data": {
      "text/plain": [
       "[145000, 178000, 85000, 175000, 127000]"
      ]
     },
     "execution_count": 46,
     "metadata": {},
     "output_type": "execute_result"
    }
   ],
   "source": [
    "list(some_labels)"
   ]
  },
  {
   "cell_type": "code",
   "execution_count": 50,
   "id": "f3b8b5c6",
   "metadata": {},
   "outputs": [
    {
     "name": "stdout",
     "output_type": "stream",
     "text": [
      "Training MSE:178248472.17,Training RMSE:13350.97\n"
     ]
    }
   ],
   "source": [
    "from sklearn.metrics import mean_squared_error,r2_score\n",
    "train_mse=mean_squared_error(y_train,y_train_pred)\n",
    "train_rmse=np.sqrt(train_mse)\n",
    "print(f\"Training MSE:{train_mse:.2f},Training RMSE:{train_rmse:.2f}\")"
   ]
  },
  {
   "cell_type": "markdown",
   "id": "a55109bc",
   "metadata": {},
   "source": [
    "# Cross-Validation"
   ]
  },
  {
   "cell_type": "code",
   "execution_count": 53,
   "id": "482530ba",
   "metadata": {},
   "outputs": [],
   "source": [
    "from sklearn.model_selection import cross_val_score\n",
    "scores=cross_val_score(model,x_train,y_train,scoring=\"neg_mean_squared_error\",cv=200)\n",
    "rmse_scores=np.sqrt(-scores)"
   ]
  },
  {
   "cell_type": "code",
   "execution_count": 54,
   "id": "c38e5e73",
   "metadata": {},
   "outputs": [
    {
     "data": {
      "text/plain": [
       "array([ 22866.43717507,  15173.79657976,  26403.00289102,  11839.4361224 ,\n",
       "        48094.60750207,  11756.21238085,  20056.49631123,  12602.87634249,\n",
       "        11975.01637884,  50413.89660784,  37589.53272661,  29023.39507324,\n",
       "        13405.57212792,   8702.65534853,  19993.80010026,  20134.19207667,\n",
       "        20968.3038603 ,  32806.60607675,  37115.94629571,  23577.10764715,\n",
       "        29561.9301546 ,  18869.49227859,  17244.37969516,  28333.48579382,\n",
       "        19259.39899623,  16765.29428473,  40186.36029634,  38112.13153847,\n",
       "       164500.05369038,  49609.5861846 ,  21233.93359685,  32364.08178001,\n",
       "        24360.91253344,  31879.64589168,  50649.54322286,  13132.21350027,\n",
       "        23679.17206717,  30019.21753798,  18885.7824614 ,  29465.42344909,\n",
       "        17619.39393794,  30345.24556442,  26561.16228094,  35593.5515002 ,\n",
       "        34437.99600319,  27225.41843265,  29695.92362038,  41572.77679876,\n",
       "        22657.75706664,  21973.57767207,  21630.62848287,  51093.87072314,\n",
       "        33979.75055524,  37114.61320969,  20966.24362823,  27418.37228161,\n",
       "        10415.54264196,  25682.20075219,  24320.77128835,  31057.19883644,\n",
       "       189613.82075739,  13883.9370114 ,  24060.96292099,  37510.60478576,\n",
       "        24224.60893327,  20956.04949259,  34034.42207419,  26494.19532953,\n",
       "         6835.66057398,  16105.24740193,  56476.68298217,  26776.60456649,\n",
       "        59412.99137968,  18866.62991   ,  46172.33763102,  44073.07004758,\n",
       "        35321.52909466,  27400.49074151,  43106.06965174,  32252.61576648,\n",
       "        26983.41231978,  32446.48328332, 108856.47384409,   9568.73117535,\n",
       "        44110.6974255 ,  34174.68926185,  19324.06747385,  23448.10992789,\n",
       "        36255.03025423,  82840.98135302,  19127.49221803,  22505.98466994,\n",
       "        26085.46061882,  24735.39337879,  19041.50890092,  23488.5380076 ,\n",
       "        25954.1217732 ,  26604.50873804,  75740.71363738,  17041.0487594 ,\n",
       "        33096.35858841,  27298.82893135,  44980.16050292,  53991.42639003,\n",
       "        16837.48366131,  17695.46861551,  34728.66090393,  18774.7505363 ,\n",
       "        19494.2340981 ,  14903.86159858,  18805.05980362,  12331.26881493,\n",
       "        12907.29851663,  21056.4743741 ,  28204.06127566,  31220.8118116 ,\n",
       "        74355.65413559,  27112.07060133,  19598.19598039,  27315.53999436,\n",
       "        30285.25435047,  28823.79173024,  15177.13361415,  18831.24162158,\n",
       "        31717.61166508,  17996.87955407,  28139.179658  ,  45469.8809813 ,\n",
       "        40507.08481503,  15801.28045546,  35692.34824373,   9029.01304742,\n",
       "        25796.04021354,  29570.15886991,  34977.26440301,  12899.56128637,\n",
       "        44631.7803585 ,  29378.82333458,  28923.12943606,  12667.96001809,\n",
       "        27165.90304284,  26875.25750692,  27124.31320559,  10854.05372258,\n",
       "        25112.63008184,  27250.96976851,  32798.73131436,  13053.82650632,\n",
       "        11688.89172295,  14799.35504045,  26147.83970887,  25485.51024847,\n",
       "        14421.4743248 ,  41533.9761057 ,  30916.17751887,  14272.17336068,\n",
       "        27137.84259285,  27559.69548258,  20038.74498955,  24717.5575821 ,\n",
       "        57358.14746672,  27706.32960227,  28561.84237424,  17836.28650563,\n",
       "        49356.85514776,  18272.91758591,  11067.32369323,  60347.35809247,\n",
       "        22833.31765704,  29577.21685557,  33394.8343775 ,  22196.8253457 ,\n",
       "        15193.51083195,  13582.72897794,  19832.49643131,  19439.05340061,\n",
       "        22111.68084312,  17355.14949332,  38016.47006943,  20706.46354938,\n",
       "        34424.25953542,   7655.32079722,  15821.92848162,   6595.81285704,\n",
       "        15847.47347619,  28323.30042726,  26053.66128283,  13849.25871493,\n",
       "        26156.37889123,  40831.47630071,  28505.98093232,  20281.50255758,\n",
       "        19041.17069805,  13443.91320312,  16042.66103901,  14322.33307713,\n",
       "        59822.12506348,  21217.93444578,  20991.80879038,  26165.52205334])"
      ]
     },
     "execution_count": 54,
     "metadata": {},
     "output_type": "execute_result"
    }
   ],
   "source": [
    "rmse_scores"
   ]
  },
  {
   "cell_type": "code",
   "execution_count": 55,
   "id": "049a0ce7",
   "metadata": {},
   "outputs": [],
   "source": [
    "def print_scores(scores):\n",
    "    print(\"Scores:\",scores)\n",
    "    print(\"Mean:\",scores.mean())\n",
    "    print(\"Standard Deviation:\",scores.std())"
   ]
  },
  {
   "cell_type": "code",
   "execution_count": 56,
   "id": "6735df17",
   "metadata": {},
   "outputs": [
    {
     "name": "stdout",
     "output_type": "stream",
     "text": [
      "Scores: [ 22866.43717507  15173.79657976  26403.00289102  11839.4361224\n",
      "  48094.60750207  11756.21238085  20056.49631123  12602.87634249\n",
      "  11975.01637884  50413.89660784  37589.53272661  29023.39507324\n",
      "  13405.57212792   8702.65534853  19993.80010026  20134.19207667\n",
      "  20968.3038603   32806.60607675  37115.94629571  23577.10764715\n",
      "  29561.9301546   18869.49227859  17244.37969516  28333.48579382\n",
      "  19259.39899623  16765.29428473  40186.36029634  38112.13153847\n",
      " 164500.05369038  49609.5861846   21233.93359685  32364.08178001\n",
      "  24360.91253344  31879.64589168  50649.54322286  13132.21350027\n",
      "  23679.17206717  30019.21753798  18885.7824614   29465.42344909\n",
      "  17619.39393794  30345.24556442  26561.16228094  35593.5515002\n",
      "  34437.99600319  27225.41843265  29695.92362038  41572.77679876\n",
      "  22657.75706664  21973.57767207  21630.62848287  51093.87072314\n",
      "  33979.75055524  37114.61320969  20966.24362823  27418.37228161\n",
      "  10415.54264196  25682.20075219  24320.77128835  31057.19883644\n",
      " 189613.82075739  13883.9370114   24060.96292099  37510.60478576\n",
      "  24224.60893327  20956.04949259  34034.42207419  26494.19532953\n",
      "   6835.66057398  16105.24740193  56476.68298217  26776.60456649\n",
      "  59412.99137968  18866.62991     46172.33763102  44073.07004758\n",
      "  35321.52909466  27400.49074151  43106.06965174  32252.61576648\n",
      "  26983.41231978  32446.48328332 108856.47384409   9568.73117535\n",
      "  44110.6974255   34174.68926185  19324.06747385  23448.10992789\n",
      "  36255.03025423  82840.98135302  19127.49221803  22505.98466994\n",
      "  26085.46061882  24735.39337879  19041.50890092  23488.5380076\n",
      "  25954.1217732   26604.50873804  75740.71363738  17041.0487594\n",
      "  33096.35858841  27298.82893135  44980.16050292  53991.42639003\n",
      "  16837.48366131  17695.46861551  34728.66090393  18774.7505363\n",
      "  19494.2340981   14903.86159858  18805.05980362  12331.26881493\n",
      "  12907.29851663  21056.4743741   28204.06127566  31220.8118116\n",
      "  74355.65413559  27112.07060133  19598.19598039  27315.53999436\n",
      "  30285.25435047  28823.79173024  15177.13361415  18831.24162158\n",
      "  31717.61166508  17996.87955407  28139.179658    45469.8809813\n",
      "  40507.08481503  15801.28045546  35692.34824373   9029.01304742\n",
      "  25796.04021354  29570.15886991  34977.26440301  12899.56128637\n",
      "  44631.7803585   29378.82333458  28923.12943606  12667.96001809\n",
      "  27165.90304284  26875.25750692  27124.31320559  10854.05372258\n",
      "  25112.63008184  27250.96976851  32798.73131436  13053.82650632\n",
      "  11688.89172295  14799.35504045  26147.83970887  25485.51024847\n",
      "  14421.4743248   41533.9761057   30916.17751887  14272.17336068\n",
      "  27137.84259285  27559.69548258  20038.74498955  24717.5575821\n",
      "  57358.14746672  27706.32960227  28561.84237424  17836.28650563\n",
      "  49356.85514776  18272.91758591  11067.32369323  60347.35809247\n",
      "  22833.31765704  29577.21685557  33394.8343775   22196.8253457\n",
      "  15193.51083195  13582.72897794  19832.49643131  19439.05340061\n",
      "  22111.68084312  17355.14949332  38016.47006943  20706.46354938\n",
      "  34424.25953542   7655.32079722  15821.92848162   6595.81285704\n",
      "  15847.47347619  28323.30042726  26053.66128283  13849.25871493\n",
      "  26156.37889123  40831.47630071  28505.98093232  20281.50255758\n",
      "  19041.17069805  13443.91320312  16042.66103901  14322.33307713\n",
      "  59822.12506348  21217.93444578  20991.80879038  26165.52205334]\n",
      "Mean: 28930.017717362298\n",
      "Standard Deviation: 20433.909074858722\n"
     ]
    }
   ],
   "source": [
    "print_scores(rmse_scores)"
   ]
  },
  {
   "cell_type": "code",
   "execution_count": 57,
   "id": "4aee0a12",
   "metadata": {},
   "outputs": [],
   "source": [
    "y_pred=model.predict(x_test)"
   ]
  },
  {
   "cell_type": "code",
   "execution_count": 58,
   "id": "b16a2038",
   "metadata": {},
   "outputs": [
    {
     "data": {
      "text/plain": [
       "array([191903.5 , 149396.  , 209655.  , ..., 159803.  , 168518.87,\n",
       "       160452.  ])"
      ]
     },
     "execution_count": 58,
     "metadata": {},
     "output_type": "execute_result"
    }
   ],
   "source": [
    "y_pred"
   ]
  },
  {
   "cell_type": "code",
   "execution_count": null,
   "id": "88b177b3",
   "metadata": {},
   "outputs": [],
   "source": []
  }
 ],
 "metadata": {
  "kernelspec": {
   "display_name": "Python 3",
   "language": "python",
   "name": "python3"
  },
  "language_info": {
   "codemirror_mode": {
    "name": "ipython",
    "version": 3
   },
   "file_extension": ".py",
   "mimetype": "text/x-python",
   "name": "python",
   "nbconvert_exporter": "python",
   "pygments_lexer": "ipython3",
   "version": "3.8.8"
  }
 },
 "nbformat": 4,
 "nbformat_minor": 5
}
